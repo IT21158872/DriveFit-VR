{
  "nbformat": 4,
  "nbformat_minor": 0,
  "metadata": {
    "colab": {
      "provenance": []
    },
    "kernelspec": {
      "name": "python3",
      "display_name": "Python 3"
    },
    "language_info": {
      "name": "python"
    }
  },
  "cells": [
    {
      "cell_type": "markdown",
      "source": [
        "## Quiz 1 synthetic dataset generation"
      ],
      "metadata": {
        "id": "wlqeQ_RzlCK7"
      }
    },
    {
      "cell_type": "code",
      "execution_count": null,
      "metadata": {
        "id": "bFKQZJ6Pk3XV"
      },
      "outputs": [],
      "source": [
        "import json\n",
        "from collections import defaultdict"
      ]
    },
    {
      "cell_type": "code",
      "source": [
        "# Load Quiz 1 performance data\n",
        "with open(\"/content/simulated_quiz_1_performance.json\", \"r\") as file:\n",
        "    quiz_1_data = json.load(file)\n",
        "\n",
        "# Load question bank\n",
        "with open(\"/content/questions.json\", \"r\") as file:\n",
        "    questions = json.load(file)"
      ],
      "metadata": {
        "id": "LwsCFC_KlNRO"
      },
      "execution_count": null,
      "outputs": []
    },
    {
      "cell_type": "code",
      "source": [
        "# mapping of question IDs to their details\n",
        "question_lookup = {q[\"question_id\"]: q for q in questions}"
      ],
      "metadata": {
        "id": "cLHipaaLlQjw"
      },
      "execution_count": null,
      "outputs": []
    },
    {
      "cell_type": "code",
      "source": [
        "from collections import defaultdict\n",
        "\n",
        "def calculate_features(quiz_1_data, questions):\n",
        "    \"\"\"\n",
        "    Calculate features for each user based on Quiz 1 data.\n",
        "    Generates a feature set for machine learning.\n",
        "    \"\"\"\n",
        "    user_features = []\n",
        "\n",
        "    # Lookup for question details\n",
        "    question_lookup = {q[\"question_id\"]: q for q in questions}\n",
        "\n",
        "    for user_data in quiz_1_data:\n",
        "        user_id = user_data[\"user_id\"]\n",
        "        answers = user_data[\"answers\"]\n",
        "\n",
        "        # Calculating overall accuracy\n",
        "        total_questions = len(answers)\n",
        "        correct_answers = sum(1 for ans in answers if ans[\"is_correct\"])\n",
        "        overall_accuracy = correct_answers / total_questions if total_questions > 0 else 0\n",
        "\n",
        "        # Calculating category performance\n",
        "        category_correct = defaultdict(int)\n",
        "        category_total = defaultdict(int)\n",
        "\n",
        "        for ans in answers:\n",
        "            category = ans[\"category\"]\n",
        "            category_total[category] += 1\n",
        "            if ans[\"is_correct\"]:\n",
        "                category_correct[category] += 1\n",
        "\n",
        "\n",
        "        # Generating feature vectors for each question answered by the user\n",
        "        for ans in answers:\n",
        "            question_id = ans[\"question_id\"]\n",
        "            question_details = question_lookup[question_id]\n",
        "            category = question_details[\"category\"]\n",
        "\n",
        "            # Category performance for the question's category\n",
        "            category_perf = (\n",
        "                category_correct[category] / category_total[category]\n",
        "                if category_total[category] > 0\n",
        "                else 0\n",
        "            )\n",
        "\n",
        "            # Importance weight\n",
        "            importance_weight = question_details[\"importance_weight\"]\n",
        "\n",
        "            # Difficulty level as numerical encoding\n",
        "            difficulty_mapping = {\"Easy\": 1, \"Medium\": 2, \"Hard\": 3}\n",
        "            difficulty_numeric = difficulty_mapping.get(question_details[\"difficulty\"], 0)\n",
        "\n",
        "            user_features.append({\n",
        "                \"user_id\": user_id,\n",
        "                \"question_id\": question_id,\n",
        "                \"category\": category,\n",
        "                \"difficulty\": question_details[\"difficulty\"],\n",
        "                \"difficulty_numeric\": difficulty_numeric,\n",
        "                \"overall_accuracy\": overall_accuracy,\n",
        "                \"category_performance\": category_perf,\n",
        "                \"importance_weight\": importance_weight,\n",
        "                \"is_correct\": ans[\"is_correct\"],\n",
        "            })\n",
        "\n",
        "    return user_features"
      ],
      "metadata": {
        "id": "nJ63RojslT7X"
      },
      "execution_count": null,
      "outputs": []
    },
    {
      "cell_type": "code",
      "source": [
        "features = calculate_features(quiz_1_data, questions)"
      ],
      "metadata": {
        "id": "luxRuNctlc9h"
      },
      "execution_count": null,
      "outputs": []
    },
    {
      "cell_type": "code",
      "source": [
        "output_file = \"quiz_1_features.json\"\n",
        "with open(output_file, \"w\") as file:\n",
        "    json.dump(features, file, indent=4)\n"
      ],
      "metadata": {
        "id": "0Ejr5ZQMle0u"
      },
      "execution_count": null,
      "outputs": []
    }
  ]
}