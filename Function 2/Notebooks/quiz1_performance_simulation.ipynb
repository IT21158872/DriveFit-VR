{
  "nbformat": 4,
  "nbformat_minor": 0,
  "metadata": {
    "colab": {
      "provenance": []
    },
    "kernelspec": {
      "name": "python3",
      "display_name": "Python 3"
    },
    "language_info": {
      "name": "python"
    }
  },
  "cells": [
    {
      "cell_type": "markdown",
      "source": [
        "## Quiz 1 performance simulation"
      ],
      "metadata": {
        "id": "PfkUSs8ikDOF"
      }
    },
    {
      "cell_type": "code",
      "source": [
        "import random\n",
        "import json"
      ],
      "metadata": {
        "id": "rrrItOawjxKh"
      },
      "execution_count": null,
      "outputs": []
    },
    {
      "cell_type": "code",
      "source": [
        "with open(\"/content/questions.json\", \"r\") as file:\n",
        "    questions = json.load(file)"
      ],
      "metadata": {
        "id": "sKY1ByKTjxrl"
      },
      "execution_count": null,
      "outputs": []
    },
    {
      "cell_type": "code",
      "source": [
        "def generate_user_performance(user_id, question, num_questions=40):\n",
        "    # Randomly sampling questions for Quiz 1\n",
        "    sampled_questions = random.sample(questions, num_questions)\n",
        "\n",
        "    # Simulating\n",
        "    performance_data = []\n",
        "    for question in sampled_questions:\n",
        "\n",
        "        selected_answer = random.choice(question[\"options\"])\n",
        "        is_correct = selected_answer == question[\"correct_answer\"]\n",
        "\n",
        "        # performance record\n",
        "        performance_data.append({\n",
        "            \"question_id\": question[\"question_id\"],\n",
        "            \"category\": question[\"category\"],\n",
        "            \"difficulty\": question[\"difficulty\"],\n",
        "            \"selected_answer\": selected_answer,\n",
        "            \"correct_answer\": question[\"correct_answer\"],\n",
        "            \"is_correct\": is_correct,\n",
        "        })\n",
        "\n",
        "    return {\n",
        "        \"user_id\": user_id,\n",
        "        \"answers\": performance_data,\n",
        "    }\n"
      ],
      "metadata": {
        "id": "k0b9TF5Kjzlv"
      },
      "execution_count": null,
      "outputs": []
    },
    {
      "cell_type": "code",
      "source": [
        "def generate_performance_dataset(num_users, questions, num_questions=40):\n",
        "    dataset = []\n",
        "    for user_id in range(1, num_users + 1):\n",
        "        user_performance = generate_user_performance(f\"U{user_id:03d}\", questions, num_questions)\n",
        "        dataset.append(user_performance)\n",
        "    return dataset"
      ],
      "metadata": {
        "id": "Rkc78ae3j26W"
      },
      "execution_count": null,
      "outputs": []
    },
    {
      "cell_type": "code",
      "source": [
        "NUM_USERS = 50\n",
        "QUIZ_1_NUM_QUESTIONS = 40"
      ],
      "metadata": {
        "id": "z4pQVZzkj5V2"
      },
      "execution_count": null,
      "outputs": []
    },
    {
      "cell_type": "code",
      "source": [
        "quiz_1_performance_dataset = generate_performance_dataset(NUM_USERS, questions, QUIZ_1_NUM_QUESTIONS)"
      ],
      "metadata": {
        "id": "mTkogibsj7Xd"
      },
      "execution_count": null,
      "outputs": []
    },
    {
      "cell_type": "code",
      "source": [
        "output_file = \"simulated_quiz_1_performance.json\"\n",
        "with open(output_file, \"w\") as file:\n",
        "    json.dump(quiz_1_performance_dataset, file, indent=4)"
      ],
      "metadata": {
        "id": "FIqbgNbZj-f9"
      },
      "execution_count": null,
      "outputs": []
    }
  ]
}