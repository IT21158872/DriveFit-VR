{
  "nbformat": 4,
  "nbformat_minor": 0,
  "metadata": {
    "colab": {
      "provenance": []
    },
    "kernelspec": {
      "name": "python3",
      "display_name": "Python 3"
    },
    "language_info": {
      "name": "python"
    }
  },
  "cells": [
    {
      "cell_type": "markdown",
      "source": [
        "## Question Recommendation based on quiz 1 performance"
      ],
      "metadata": {
        "id": "C8cBeLfYZ9JD"
      }
    },
    {
      "cell_type": "code",
      "source": [
        "import pickle\n",
        "import pandas as pd\n",
        "import json\n",
        "from sklearn.preprocessing import LabelEncoder"
      ],
      "metadata": {
        "id": "fv8_p9jOXMzr"
      },
      "execution_count": 13,
      "outputs": []
    },
    {
      "cell_type": "code",
      "execution_count": 14,
      "metadata": {
        "id": "40kYZS9SVBwh"
      },
      "outputs": [],
      "source": [
        "def recommend_questions(user_id, quiz_1_features, question_bank, trained_model, num_questions=40):\n",
        "\n",
        "    quiz_1_df = pd.DataFrame(quiz_1_features)\n",
        "\n",
        "    user_data = quiz_1_df[quiz_1_df[\"user_id\"] == user_id]\n",
        "\n",
        "    # Identify weak areas: categories with low performance\n",
        "    category_performance = user_data.groupby(\"category\")[\"is_correct\"].mean()\n",
        "    weak_categories = category_performance[category_performance < 0.5].index.tolist()\n",
        "\n",
        "    question_df = pd.DataFrame(question_bank)\n",
        "\n",
        "    question_df[\"overall_accuracy\"] = user_data[\"overall_accuracy\"].iloc[0]\n",
        "    question_df[\"category_performance\"] = question_df[\"category\"].map(\n",
        "        lambda cat: category_performance.get(cat, 0)\n",
        "    )\n",
        "\n",
        "    label_encoder = LabelEncoder()\n",
        "    if \"category\" in question_df.columns:\n",
        "        question_df[\"category_encoded\"] = label_encoder.fit_transform(question_df[\"category\"])\n",
        "\n",
        "    numeric_columns = [\"difficulty\", \"importance_weight\", \"overall_accuracy\", \"category_performance\"]\n",
        "    for col in numeric_columns:\n",
        "        question_df[col] = pd.to_numeric(question_df[col], errors=\"coerce\")\n",
        "\n",
        "    features = question_df[numeric_columns]\n",
        "\n",
        "    # Predict performance on all questions\n",
        "    predictions = trained_model.predict(features)\n",
        "    question_df[\"predicted_performance\"] = predictions\n",
        "\n",
        "    # Filter questions from weak categories\n",
        "    weak_questions = question_df[question_df[\"category\"].isin(weak_categories)]\n",
        "\n",
        "    # Rank questions by predicted performance (ascending) and select top 40\n",
        "    recommended_questions = weak_questions.sort_values(\n",
        "        by=[\"predicted_performance\", \"importance_weight\"], ascending=[True, False]\n",
        "    ).head(num_questions)\n",
        "\n",
        "    # Return recommended questions\n",
        "    output_columns = [\"question_id\", \"category\"]\n",
        "    if \"question\" in question_df.columns:\n",
        "        output_columns.append(\"question\")\n",
        "\n",
        "    return recommended_questions[output_columns].to_dict(orient=\"records\")\n"
      ]
    },
    {
      "cell_type": "code",
      "source": [
        "with open(\"/content/quiz_1_features.json\", \"r\") as file:\n",
        "    quiz_1_features = json.load(file)\n",
        "\n",
        "with open(\"/content/questions.json\", \"r\") as file:\n",
        "    question_bank = json.load(file)\n",
        "\n",
        "with open(\"/content/answer_prediction_model.pkl\", \"rb\") as file:\n",
        "    trained_model = pickle.load(file)\n",
        "\n",
        "quiz_1_features = pd.DataFrame(quiz_1_features)\n",
        "question_bank = pd.DataFrame(question_bank)\n",
        "\n",
        "user_id = 'U002'\n",
        "\n",
        "recommended_questions = recommend_questions(user_id, quiz_1_features=quiz_1_features, question_bank=question_bank, trained_model=trained_model)\n",
        "\n",
        "i = 1\n",
        "\n",
        "print(f\"Recommended Questions for Quiz 2 for user {user_id}:\")\n",
        "\n",
        "for q in recommended_questions:\n",
        "    print(f\"{i}- QID: {q['question_id']}, Category: {q['category']}, Question: {q.get('question', 'N/A')}\")\n",
        "    i+=1"
      ],
      "metadata": {
        "colab": {
          "base_uri": "https://localhost:8080/",
          "height": 0
        },
        "id": "N_OitHUEV_4q",
        "outputId": "9126f8a6-0fdb-4e2b-f943-3b1e25b7dfe8"
      },
      "execution_count": 15,
      "outputs": [
        {
          "output_type": "stream",
          "name": "stdout",
          "text": [
            "Recommended Questions for Quiz 2 for user U002:\n",
            "1- QID: Q013, Category: Road Signs and Markings, Question: What does a no overtaking sign mean?\n",
            "2- QID: Q015, Category: Road Signs and Markings, Question: What does a lane merging sign signify?\n",
            "3- QID: Q017, Category: Traffic Rules and Regulations, Question: Who has the right of way at an uncontrolled intersection?\n",
            "4- QID: Q024, Category: Traffic Rules and Regulations, Question: What should you do at a zebra crossing?\n",
            "5- QID: Q029, Category: Traffic Rules and Regulations, Question: What is the correct procedure to make a U-turn?\n",
            "6- QID: Q059, Category: Road Safety and Accident Prevention, Question: What is the primary reason for wearing a seatbelt?\n",
            "7- QID: Q060, Category: Road Safety and Accident Prevention, Question: What should you do if you are driving in a heavy rainstorm?\n",
            "8- QID: Q062, Category: Road Safety and Accident Prevention, Question: When should you use your car's horn?\n",
            "9- QID: Q063, Category: Road Safety and Accident Prevention, Question: What should you do if another vehicle is approaching from behind at high speed?\n",
            "10- QID: Q064, Category: Road Safety and Accident Prevention, Question: What is the correct action when driving in a construction zone?\n",
            "11- QID: Q030, Category: Driving Ethics and Safety, Question: What should you do if you feel drowsy while driving?\n",
            "12- QID: Q036, Category: Driving Ethics and Safety, Question: What is the safest way to react to road rage?\n",
            "13- QID: Q043, Category: Vehicle Maintenance and Care, Question: What is the role of a car's battery?\n",
            "14- QID: Q044, Category: Vehicle Maintenance and Care, Question: Why should you replace your windshield wipers regularly?\n",
            "15- QID: Q048, Category: Vehicle Maintenance and Care, Question: What is the recommended tire tread depth?\n",
            "16- QID: Q001, Category: Road Signs and Markings, Question: What does a red triangular sign indicate?\n",
            "17- QID: Q005, Category: Road Signs and Markings, Question: What does a double yellow line on the road signify?\n",
            "18- QID: Q014, Category: Road Signs and Markings, Question: What does a flashing amber traffic light mean?\n",
            "19- QID: Q021, Category: Traffic Rules and Regulations, Question: What is the purpose of using turn signals?\n",
            "20- QID: Q027, Category: Traffic Rules and Regulations, Question: When can you use your horn?\n",
            "21- QID: Q056, Category: Road Safety and Accident Prevention, Question: What is the best way to handle a skid?\n",
            "22- QID: Q057, Category: Road Safety and Accident Prevention, Question: What is the purpose of wearing a helmet while riding a motorcycle?\n",
            "23- QID: Q061, Category: Road Safety and Accident Prevention, Question: What is the purpose of checking your blind spots?\n",
            "24- QID: Q002, Category: Road Signs and Markings, Question: What does a circular sign with a red border mean?\n",
            "25- QID: Q003, Category: Road Signs and Markings, Question: What does a blue rectangular sign signify?\n",
            "26- QID: Q004, Category: Road Signs and Markings, Question: What does a stop sign indicate?\n",
            "27- QID: Q006, Category: Road Signs and Markings, Question: What does a no parking sign look like?\n",
            "28- QID: Q016, Category: Traffic Rules and Regulations, Question: What is the speed limit in an urban area in Sri Lanka?\n",
            "29- QID: Q018, Category: Traffic Rules and Regulations, Question: When can you overtake on the left?\n",
            "30- QID: Q020, Category: Traffic Rules and Regulations, Question: What should you do if an ambulance approaches with sirens on?\n",
            "31- QID: Q025, Category: Traffic Rules and Regulations, Question: What is the rule for overtaking on a curve?\n",
            "32- QID: Q028, Category: Traffic Rules and Regulations, Question: What should you do if you are involved in an accident?\n",
            "33- QID: Q053, Category: Road Safety and Accident Prevention, Question: What is the best way to avoid rear-end collisions?\n",
            "34- QID: Q054, Category: Road Safety and Accident Prevention, Question: What is the correct action when you encounter a road obstruction?\n",
            "35- QID: Q012, Category: Road Signs and Markings, Question: What does a chevron marking on a road mean?\n",
            "36- QID: Q023, Category: Traffic Rules and Regulations, Question: What is the rule for parking near a fire hydrant?\n",
            "37- QID: Q026, Category: Traffic Rules and Regulations, Question: What should you do if you miss your exit on the highway?\n",
            "38- QID: Q055, Category: Road Safety and Accident Prevention, Question: What should you do if you are driving and your tires suddenly blow out?\n",
            "39- QID: Q033, Category: Driving Ethics and Safety, Question: What should you do if you are driving in heavy rain?\n",
            "40- QID: Q045, Category: Vehicle Maintenance and Care, Question: What is the purpose of a car's air filter?\n"
          ]
        }
      ]
    }
  ]
}