{
  "nbformat": 4,
  "nbformat_minor": 0,
  "metadata": {
    "colab": {
      "provenance": []
    },
    "kernelspec": {
      "name": "python3",
      "display_name": "Python 3"
    },
    "language_info": {
      "name": "python"
    }
  },
  "cells": [
    {
      "cell_type": "markdown",
      "source": [
        "## Synthetic data generation for driver future performance"
      ],
      "metadata": {
        "id": "PcLgXoJxsAal"
      }
    },
    {
      "cell_type": "code",
      "execution_count": 22,
      "metadata": {
        "id": "FFbbeOmnrnMJ"
      },
      "outputs": [],
      "source": [
        "import numpy as np\n",
        "import pandas as pd"
      ]
    },
    {
      "cell_type": "code",
      "source": [
        "n_samples = 10000"
      ],
      "metadata": {
        "id": "CnSHUsbSsNPM"
      },
      "execution_count": 23,
      "outputs": []
    },
    {
      "cell_type": "code",
      "source": [
        "\n",
        "# Levels with probabilities\n",
        "levels = [\"Starting Vehicle\", \"Turning\", \"Stopping Vehicle\", \"Navigating Turns\"]\n",
        "level_probs = [0.4, 0.3, 0.2, 0.1]\n",
        "level = np.random.choice(levels, n_samples, p=level_probs)\n",
        "\n",
        "# Engagement scores correlated with levels\n",
        "engagement_score = {\n",
        "    \"Starting Vehicle\": (30, 100),\n",
        "    \"Turning\": (30, 90),\n",
        "    \"Stopping Vehicle\": (30, 80),\n",
        "    \"Navigating Turns\": (30, 90),\n",
        "}\n",
        "\n",
        "# Adding Gaussian noise\n",
        "engagement_score = np.array([\n",
        "    np.random.uniform(*engagement_score[l]) + np.random.normal(0, 5)\n",
        "    for l in level\n",
        "])\n",
        "\n",
        "# Engagement and predicted times correlated with levels\n",
        "engagement_time = {\n",
        "    \"Starting Vehicle\": (30, 60),\n",
        "    \"Turning\": (40, 80),\n",
        "    \"Stopping Vehicle\": (50, 100),\n",
        "    \"Navigating Turns\": (60, 120),\n",
        "}\n",
        "predicted_time = {\n",
        "    \"Starting Vehicle\": (10, 30),\n",
        "    \"Turning\": (15, 35),\n",
        "    \"Stopping Vehicle\": (20, 40),\n",
        "    \"Navigating Turns\": (25, 50),\n",
        "}\n",
        "\n",
        "# Adding Gaussian noise\n",
        "engagement_time = np.array([\n",
        "    np.random.uniform(*engagement_time[l]) + np.random.normal(0, 3)\n",
        "    for l in level\n",
        "])\n",
        "\n",
        "# Adding Gaussian noise\n",
        "predicted_time = np.array([\n",
        "    engagement_time[i] + np.random.uniform(*predicted_time[level[i]]) + np.random.normal(0, 3)\n",
        "    for i in range(n_samples)\n",
        "])"
      ],
      "metadata": {
        "id": "OwpJzxChsRTM"
      },
      "execution_count": 24,
      "outputs": []
    },
    {
      "cell_type": "code",
      "source": [
        "# Function to add future performance labels\n",
        "def performance_label(score, eng_time, pred_time):\n",
        "    if score > 80 and eng_time < pred_time:\n",
        "        label = \"Excellent\"\n",
        "    elif score > 70:\n",
        "        label = \"Good\"\n",
        "    else:\n",
        "        label = \"Needs Improvement\"\n",
        "\n",
        "    # Random mislabeling\n",
        "    if np.random.rand() < 0.05:\n",
        "        label = np.random.choice([\"Excellent\", \"Good\", \"Needs Improvement\"])\n",
        "    return label\n",
        "\n",
        "future_performance = [\n",
        "    performance_label(score, time, pred)\n",
        "    for score, time, pred in zip(engagement_score, engagement_time, predicted_time)\n",
        "]"
      ],
      "metadata": {
        "id": "V3gu4PSvssDx"
      },
      "execution_count": 25,
      "outputs": []
    },
    {
      "cell_type": "code",
      "source": [
        "data = pd.DataFrame({\n",
        "    \"Level\": level,\n",
        "    \"Engagement Score\": np.clip(engagement_score, 0, 100),\n",
        "    \"Engagement Time (s)\": engagement_time,\n",
        "    \"Predicted Time (s)\": predicted_time,\n",
        "    \"Future Performance\": future_performance\n",
        "})\n",
        "\n",
        "data.to_csv(\"driver_future_performance.csv\", index=False)"
      ],
      "metadata": {
        "id": "Ex-nF33AsydN"
      },
      "execution_count": 26,
      "outputs": []
    },
    {
      "cell_type": "code",
      "source": [
        "print(data.head())"
      ],
      "metadata": {
        "colab": {
          "base_uri": "https://localhost:8080/"
        },
        "id": "7hF8mMtCs18W",
        "outputId": "490a508a-ae7f-4426-f2d6-d9fbe9eec9f8"
      },
      "execution_count": 27,
      "outputs": [
        {
          "output_type": "stream",
          "name": "stdout",
          "text": [
            "              Level  Engagement Score  Engagement Time (s)  \\\n",
            "0           Turning         90.217708            46.141552   \n",
            "1  Starting Vehicle         36.568457            46.613846   \n",
            "2  Starting Vehicle         47.628482            35.779767   \n",
            "3           Turning         44.091658            52.568557   \n",
            "4  Stopping Vehicle         82.847142            72.037649   \n",
            "\n",
            "   Predicted Time (s) Future Performance  \n",
            "0           79.814961          Excellent  \n",
            "1           58.350919  Needs Improvement  \n",
            "2           62.553693  Needs Improvement  \n",
            "3           85.185325  Needs Improvement  \n",
            "4           95.932005          Excellent  \n"
          ]
        }
      ]
    },
    {
      "cell_type": "code",
      "source": [
        "print(data.info())"
      ],
      "metadata": {
        "colab": {
          "base_uri": "https://localhost:8080/"
        },
        "id": "GyiQqNAN5RUw",
        "outputId": "8c520c3e-de08-4267-b6eb-ae308dd792a9"
      },
      "execution_count": 28,
      "outputs": [
        {
          "output_type": "stream",
          "name": "stdout",
          "text": [
            "<class 'pandas.core.frame.DataFrame'>\n",
            "RangeIndex: 10000 entries, 0 to 9999\n",
            "Data columns (total 5 columns):\n",
            " #   Column               Non-Null Count  Dtype  \n",
            "---  ------               --------------  -----  \n",
            " 0   Level                10000 non-null  object \n",
            " 1   Engagement Score     10000 non-null  float64\n",
            " 2   Engagement Time (s)  10000 non-null  float64\n",
            " 3   Predicted Time (s)   10000 non-null  float64\n",
            " 4   Future Performance   10000 non-null  object \n",
            "dtypes: float64(3), object(2)\n",
            "memory usage: 390.8+ KB\n",
            "None\n"
          ]
        }
      ]
    }
  ]
}